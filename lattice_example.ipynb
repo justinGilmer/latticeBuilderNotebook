{
 "cells": [
  {
   "cell_type": "code",
   "execution_count": 1,
   "metadata": {
    "collapsed": true
   },
   "outputs": [],
   "source": [
    "import mbuild as mb\n",
    "import nglview"
   ]
  },
  {
   "cell_type": "code",
   "execution_count": 2,
   "metadata": {
    "collapsed": true
   },
   "outputs": [],
   "source": [
    "cholesterol = mb.load('cholesterol.pdb')"
   ]
  },
  {
   "cell_type": "code",
   "execution_count": 3,
   "metadata": {
    "collapsed": false
   },
   "outputs": [
    {
     "name": "stdout",
     "output_type": "stream",
     "text": [
      "<Compound 74 particles, non-periodic, 78 bonds, id: 140182254854608>\n"
     ]
    }
   ],
   "source": [
    "print(cholesterol)"
   ]
  },
  {
   "cell_type": "code",
   "execution_count": 4,
   "metadata": {
    "collapsed": true
   },
   "outputs": [],
   "source": [
    "cholesterol.visualize()"
   ]
  },
  {
   "cell_type": "markdown",
   "metadata": {},
   "source": [
    "---\n",
    "# Now set the lattice parameters\n",
    "* Cholesterol has a triclinic lattice\n",
    "    * [a,b,c] = [1.472, 3.4209, 1.0481]\n",
    "    * [alpha, beta, gamma] = [94.64, 90.67, 96.32] \n",
    "    * Single basis atom at [0, 0, 0]\n",
    "---"
   ]
  },
  {
   "cell_type": "code",
   "execution_count": 5,
   "metadata": {
    "collapsed": false
   },
   "outputs": [],
   "source": [
    "basis_vector = ( ('cholesterol', [0,0,0]),)\n",
    "spacings = [1.472, 3.4209, 1.0481]\n",
    "angles = [94.64, 90.67, 96.32]"
   ]
  },
  {
   "cell_type": "code",
   "execution_count": 6,
   "metadata": {
    "collapsed": false
   },
   "outputs": [],
   "source": [
    "# generating the lattice\n",
    "cholesterol_lattice = mb.Lattice(spacings, angles=angles,\n",
    "                                basis_vectors=basis_vector)"
   ]
  },
  {
   "cell_type": "code",
   "execution_count": 7,
   "metadata": {
    "collapsed": false
   },
   "outputs": [],
   "source": [
    "#Success!\n",
    "\n",
    "# this is not a compound however!!\n",
    "\n",
    "# need to replicate lattice to output a compound\n",
    "\n",
    "# need a dictionary to relate the basis_vector id(s) with compounds\n",
    "# to insert\n",
    "\n",
    "# linking string id from basis_vector to compound(s)\n",
    "relation_dict = {'cholesterol': cholesterol}\n",
    "cholesterol_expanded = cholesterol_lattice.populate(x=5,y=5,z=5,\n",
    "                                                   compound_dict=relation_dict)"
   ]
  },
  {
   "cell_type": "code",
   "execution_count": 8,
   "metadata": {
    "collapsed": false
   },
   "outputs": [
    {
     "name": "stdout",
     "output_type": "stream",
     "text": [
      "<Compound 9250 particles, non-periodic, 9750 bonds, id: 140181220035440>\n"
     ]
    }
   ],
   "source": [
    "print(cholesterol_expanded)"
   ]
  },
  {
   "cell_type": "code",
   "execution_count": 9,
   "metadata": {
    "collapsed": false
   },
   "outputs": [],
   "source": [
    "cholesterol_expanded.visualize()"
   ]
  },
  {
   "cell_type": "markdown",
   "metadata": {},
   "source": [
    "Similar functionality to `LAMMPS Lattice command`"
   ]
  },
  {
   "cell_type": "markdown",
   "metadata": {},
   "source": [
    "---\n",
    "# What about multi-atom basis crystals??\n",
    "\n",
    "* We support it!\n",
    "\n",
    "Lets look at Wurtzite (ZnS)\n",
    "\n",
    "![Wurtzite](https://upload.wikimedia.org/wikipedia/commons/2/24/Wurtzite-unit-cell-3D-balls.png)\n",
    "\n",
    "---"
   ]
  },
  {
   "cell_type": "code",
   "execution_count": 10,
   "metadata": {
    "collapsed": true
   },
   "outputs": [],
   "source": [
    "# develop basis vectors first\n",
    "basis = ( ('S', [0,0,0]), ('S', [2/3, 1/3, 0.5]),\n",
    "         ('Zn', [0, 0, 7/8]), ('Zn', [1/3, 2/3, 1/8]),)\n",
    "angles = [90.0, 90.0, 120.0]\n",
    "spacings = [.382, .382, .626]\n",
    "\n",
    "# define our two element compounds\n",
    "sulfur = mb.Compound(name='S')\n",
    "zinc = mb.Compound(name='Zn')\n"
   ]
  },
  {
   "cell_type": "code",
   "execution_count": 11,
   "metadata": {
    "collapsed": false
   },
   "outputs": [],
   "source": [
    "# create lattice\n",
    "zns_wurtzite = mb.Lattice(spacings, angles=angles, basis_vectors=basis)"
   ]
  },
  {
   "cell_type": "code",
   "execution_count": 12,
   "metadata": {
    "collapsed": false
   },
   "outputs": [
    {
     "name": "stdout",
     "output_type": "stream",
     "text": [
      "<mbuild.lattice.Lattice object at 0x7f7e6b3ef198>\n"
     ]
    }
   ],
   "source": [
    "print(zns_wurtzite)"
   ]
  },
  {
   "cell_type": "code",
   "execution_count": 13,
   "metadata": {
    "collapsed": true
   },
   "outputs": [],
   "source": [
    "# now populate and make unit cell from above\n",
    "lat_dict = {'S':sulfur, 'Zn':zinc}\n",
    "zns_wurt_expanded = zns_wurtzite.populate(x=2,y=2,z=2,\n",
    "                                         compound_dict=lat_dict)"
   ]
  },
  {
   "cell_type": "code",
   "execution_count": 14,
   "metadata": {
    "collapsed": true
   },
   "outputs": [],
   "source": [
    "zns_wurt_expanded.visualize()"
   ]
  },
  {
   "cell_type": "code",
   "execution_count": 16,
   "metadata": {
    "collapsed": false
   },
   "outputs": [],
   "source": [
    "zns_wurt_expanded.save('zns.pdb', overwrite=True)"
   ]
  },
  {
   "cell_type": "code",
   "execution_count": null,
   "metadata": {
    "collapsed": true
   },
   "outputs": [],
   "source": []
  }
 ],
 "metadata": {
  "anaconda-cloud": {},
  "kernelspec": {
   "display_name": "Python [conda env:py35]",
   "language": "python",
   "name": "conda-env-py35-py"
  },
  "language_info": {
   "codemirror_mode": {
    "name": "ipython",
    "version": 3
   },
   "file_extension": ".py",
   "mimetype": "text/x-python",
   "name": "python",
   "nbconvert_exporter": "python",
   "pygments_lexer": "ipython3",
   "version": "3.5.2"
  },
  "widgets": {
   "state": {
    "170aaef837bb40c1ae4098470a3c583f": {
     "views": [
      {
       "cell_index": 22
      }
     ]
    },
    "19ad3ce5d5f64af3a132772726a66009": {
     "views": [
      {
       "cell_index": 22
      }
     ]
    },
    "2368356b3529473d80fc2c8bc552a7fd": {
     "views": [
      {
       "cell_index": 3
      }
     ]
    },
    "466050eff15640c4b979f93e678854c0": {
     "views": [
      {
       "cell_index": 3
      }
     ]
    },
    "5d5958c6e0034246b85f5e21cc0ad12b": {
     "views": [
      {
       "cell_index": 9
      }
     ]
    },
    "610ab5d9f6e24f8ab723a5643e6b6a4b": {
     "views": [
      {
       "cell_index": 22
      }
     ]
    },
    "89223671be28455586562352849e65fa": {
     "views": [
      {
       "cell_index": 3
      }
     ]
    },
    "8f744b8c013945aabf009bdee2b58c97": {
     "views": [
      {
       "cell_index": 22
      }
     ]
    },
    "9dec071382564774894fb0eb1098536f": {
     "views": [
      {
       "cell_index": 3
      }
     ]
    },
    "c4324fb2d9314802986e33fdb79f74ea": {
     "views": [
      {
       "cell_index": 9
      }
     ]
    },
    "d98c6dc756ba469a94be40eecff2df32": {
     "views": [
      {
       "cell_index": 16
      }
     ]
    },
    "e6b10b0632a64d9da456d627f307d373": {
     "views": [
      {
       "cell_index": 9
      }
     ]
    },
    "ea4ad5939a9647c28e72698e887f1a61": {
     "views": [
      {
       "cell_index": 9
      }
     ]
    },
    "f7dad8764a1e429393c0a7cc7c2775f2": {
     "views": [
      {
       "cell_index": 16
      }
     ]
    }
   },
   "version": "1.2.0"
  }
 },
 "nbformat": 4,
 "nbformat_minor": 1
}
